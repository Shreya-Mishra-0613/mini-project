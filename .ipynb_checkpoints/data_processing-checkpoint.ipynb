{
 "cells": [
  {
   "cell_type": "code",
   "execution_count": 1,
   "id": "4d80fac0-5b25-4b03-bd42-423260dc2108",
   "metadata": {},
   "outputs": [],
   "source": [
    "import pandas as pd\n",
    "import numpy as np\n",
    "import seaborn as sns\n",
    "import matplotlib.pyplot as plt"
   ]
  },
  {
   "cell_type": "code",
   "execution_count": 2,
   "id": "e61d9c31-c751-44bf-b299-4a8dcd42921f",
   "metadata": {},
   "outputs": [],
   "source": [
    "df = pd.read_csv(\"local_ocean_synthetic.csv\")"
   ]
  },
  {
   "cell_type": "code",
   "execution_count": 3,
   "id": "08a7eb9e-f60d-4405-adca-a1bd241b7895",
   "metadata": {},
   "outputs": [
    {
     "data": {
      "text/plain": [
       "(1160, 6)"
      ]
     },
     "execution_count": 3,
     "metadata": {},
     "output_type": "execute_result"
    }
   ],
   "source": [
    "df.shape"
   ]
  },
  {
   "cell_type": "code",
   "execution_count": 4,
   "id": "16203008-1432-42ca-8a18-3dbccafea58b",
   "metadata": {},
   "outputs": [
    {
     "data": {
      "text/html": [
       "<div>\n",
       "<style scoped>\n",
       "    .dataframe tbody tr th:only-of-type {\n",
       "        vertical-align: middle;\n",
       "    }\n",
       "\n",
       "    .dataframe tbody tr th {\n",
       "        vertical-align: top;\n",
       "    }\n",
       "\n",
       "    .dataframe thead th {\n",
       "        text-align: right;\n",
       "    }\n",
       "</style>\n",
       "<table border=\"1\" class=\"dataframe\">\n",
       "  <thead>\n",
       "    <tr style=\"text-align: right;\">\n",
       "      <th></th>\n",
       "      <th>Text</th>\n",
       "      <th>Openness</th>\n",
       "      <th>Conscientiousness</th>\n",
       "      <th>Extraversion</th>\n",
       "      <th>Agreeableness</th>\n",
       "      <th>Neuroticism</th>\n",
       "    </tr>\n",
       "  </thead>\n",
       "  <tbody>\n",
       "    <tr>\n",
       "      <th>433</th>\n",
       "      <td>Confirmed: I’m not lazy, I’m on energy-saving ...</td>\n",
       "      <td>3.8</td>\n",
       "      <td>1.7</td>\n",
       "      <td>3.5</td>\n",
       "      <td>3.7</td>\n",
       "      <td>3.2</td>\n",
       "    </tr>\n",
       "    <tr>\n",
       "      <th>667</th>\n",
       "      <td>If I got a dollar for every time my grandparen...</td>\n",
       "      <td>3.4</td>\n",
       "      <td>3.2</td>\n",
       "      <td>3.7</td>\n",
       "      <td>4.1</td>\n",
       "      <td>2.9</td>\n",
       "    </tr>\n",
       "    <tr>\n",
       "      <th>967</th>\n",
       "      <td>An excellent piece that deserves recognition.</td>\n",
       "      <td>4.5</td>\n",
       "      <td>3.7</td>\n",
       "      <td>4.1</td>\n",
       "      <td>4.0</td>\n",
       "      <td>2.6</td>\n",
       "    </tr>\n",
       "    <tr>\n",
       "      <th>215</th>\n",
       "      <td>Incessant doubts steal joy.</td>\n",
       "      <td>2.5</td>\n",
       "      <td>3.6</td>\n",
       "      <td>2.2</td>\n",
       "      <td>3.2</td>\n",
       "      <td>4.9</td>\n",
       "    </tr>\n",
       "    <tr>\n",
       "      <th>393</th>\n",
       "      <td>Affection is the mirror of the soul.</td>\n",
       "      <td>2.6</td>\n",
       "      <td>4.7</td>\n",
       "      <td>4.6</td>\n",
       "      <td>2.0</td>\n",
       "      <td>-0.8</td>\n",
       "    </tr>\n",
       "    <tr>\n",
       "      <th>893</th>\n",
       "      <td>This blog post is a valuable addition to my kn...</td>\n",
       "      <td>4.1</td>\n",
       "      <td>4.2</td>\n",
       "      <td>3.8</td>\n",
       "      <td>4.4</td>\n",
       "      <td>3.5</td>\n",
       "    </tr>\n",
       "    <tr>\n",
       "      <th>1063</th>\n",
       "      <td>This camera lens captures stunning shots. It's...</td>\n",
       "      <td>4.5</td>\n",
       "      <td>3.7</td>\n",
       "      <td>3.9</td>\n",
       "      <td>4.2</td>\n",
       "      <td>2.6</td>\n",
       "    </tr>\n",
       "    <tr>\n",
       "      <th>474</th>\n",
       "      <td>Proclamation: I hereby declare today ‘Annoy th...</td>\n",
       "      <td>4.4</td>\n",
       "      <td>2.6</td>\n",
       "      <td>4.2</td>\n",
       "      <td>2.4</td>\n",
       "      <td>3.2</td>\n",
       "    </tr>\n",
       "    <tr>\n",
       "      <th>1146</th>\n",
       "      <td>I'm captivated by the craftsmanship of this ha...</td>\n",
       "      <td>4.7</td>\n",
       "      <td>3.5</td>\n",
       "      <td>3.9</td>\n",
       "      <td>4.6</td>\n",
       "      <td>2.4</td>\n",
       "    </tr>\n",
       "    <tr>\n",
       "      <th>268</th>\n",
       "      <td>Unrestrained happiness is a symphony of souls.</td>\n",
       "      <td>4.7</td>\n",
       "      <td>1.2</td>\n",
       "      <td>5.0</td>\n",
       "      <td>2.9</td>\n",
       "      <td>0.0</td>\n",
       "    </tr>\n",
       "  </tbody>\n",
       "</table>\n",
       "</div>"
      ],
      "text/plain": [
       "                                                   Text  Openness  \\\n",
       "433   Confirmed: I’m not lazy, I’m on energy-saving ...       3.8   \n",
       "667   If I got a dollar for every time my grandparen...       3.4   \n",
       "967       An excellent piece that deserves recognition.       4.5   \n",
       "215                         Incessant doubts steal joy.       2.5   \n",
       "393                Affection is the mirror of the soul.       2.6   \n",
       "893   This blog post is a valuable addition to my kn...       4.1   \n",
       "1063  This camera lens captures stunning shots. It's...       4.5   \n",
       "474   Proclamation: I hereby declare today ‘Annoy th...       4.4   \n",
       "1146  I'm captivated by the craftsmanship of this ha...       4.7   \n",
       "268      Unrestrained happiness is a symphony of souls.       4.7   \n",
       "\n",
       "      Conscientiousness  Extraversion  Agreeableness  Neuroticism  \n",
       "433                 1.7           3.5            3.7          3.2  \n",
       "667                 3.2           3.7            4.1          2.9  \n",
       "967                 3.7           4.1            4.0          2.6  \n",
       "215                 3.6           2.2            3.2          4.9  \n",
       "393                 4.7           4.6            2.0         -0.8  \n",
       "893                 4.2           3.8            4.4          3.5  \n",
       "1063                3.7           3.9            4.2          2.6  \n",
       "474                 2.6           4.2            2.4          3.2  \n",
       "1146                3.5           3.9            4.6          2.4  \n",
       "268                 1.2           5.0            2.9          0.0  "
      ]
     },
     "execution_count": 4,
     "metadata": {},
     "output_type": "execute_result"
    }
   ],
   "source": [
    "df.sample(10)"
   ]
  },
  {
   "cell_type": "code",
   "execution_count": 5,
   "id": "81e337d3-96ea-4cb1-8b51-3a2f48602527",
   "metadata": {},
   "outputs": [
    {
     "name": "stdout",
     "output_type": "stream",
     "text": [
      "<class 'pandas.core.frame.DataFrame'>\n",
      "RangeIndex: 1160 entries, 0 to 1159\n",
      "Data columns (total 6 columns):\n",
      " #   Column             Non-Null Count  Dtype  \n",
      "---  ------             --------------  -----  \n",
      " 0   Text               1160 non-null   object \n",
      " 1   Openness           1160 non-null   float64\n",
      " 2   Conscientiousness  1160 non-null   float64\n",
      " 3   Extraversion       1160 non-null   float64\n",
      " 4   Agreeableness      1159 non-null   float64\n",
      " 5   Neuroticism        1159 non-null   float64\n",
      "dtypes: float64(5), object(1)\n",
      "memory usage: 54.5+ KB\n"
     ]
    }
   ],
   "source": [
    "df.info()"
   ]
  },
  {
   "cell_type": "code",
   "execution_count": 6,
   "id": "d576d3d8-2508-46e4-a6ff-e373550a9058",
   "metadata": {},
   "outputs": [
    {
     "data": {
      "text/plain": [
       "Text                 0\n",
       "Openness             0\n",
       "Conscientiousness    0\n",
       "Extraversion         0\n",
       "Agreeableness        1\n",
       "Neuroticism          1\n",
       "dtype: int64"
      ]
     },
     "execution_count": 6,
     "metadata": {},
     "output_type": "execute_result"
    }
   ],
   "source": [
    "df.isnull().sum()"
   ]
  },
  {
   "cell_type": "code",
   "execution_count": 9,
   "id": "495e751c-d24d-44d5-999d-7f09315f3555",
   "metadata": {},
   "outputs": [],
   "source": [
    "df = df.dropna(axis=0)"
   ]
  },
  {
   "cell_type": "code",
   "execution_count": 10,
   "id": "e2a3c9ea-e6f3-4af5-ab9d-74de86b7b422",
   "metadata": {},
   "outputs": [
    {
     "name": "stdout",
     "output_type": "stream",
     "text": [
      "<class 'pandas.core.frame.DataFrame'>\n",
      "Index: 1159 entries, 0 to 1158\n",
      "Data columns (total 6 columns):\n",
      " #   Column             Non-Null Count  Dtype  \n",
      "---  ------             --------------  -----  \n",
      " 0   Text               1159 non-null   object \n",
      " 1   Openness           1159 non-null   float64\n",
      " 2   Conscientiousness  1159 non-null   float64\n",
      " 3   Extraversion       1159 non-null   float64\n",
      " 4   Agreeableness      1159 non-null   float64\n",
      " 5   Neuroticism        1159 non-null   float64\n",
      "dtypes: float64(5), object(1)\n",
      "memory usage: 63.4+ KB\n"
     ]
    }
   ],
   "source": [
    "df.info()"
   ]
  },
  {
   "cell_type": "code",
   "execution_count": null,
   "id": "2889638a-85d0-4bc0-99fe-0945b786d12f",
   "metadata": {},
   "outputs": [],
   "source": []
  }
 ],
 "metadata": {
  "kernelspec": {
   "display_name": "Python 3 (ipykernel)",
   "language": "python",
   "name": "python3"
  },
  "language_info": {
   "codemirror_mode": {
    "name": "ipython",
    "version": 3
   },
   "file_extension": ".py",
   "mimetype": "text/x-python",
   "name": "python",
   "nbconvert_exporter": "python",
   "pygments_lexer": "ipython3",
   "version": "3.11.3"
  }
 },
 "nbformat": 4,
 "nbformat_minor": 5
}
